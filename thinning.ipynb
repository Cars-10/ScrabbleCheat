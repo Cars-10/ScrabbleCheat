{
 "cells": [
  {
   "cell_type": "code",
   "execution_count": 1,
   "metadata": {},
   "outputs": [],
   "source": [
    "import cv2\n",
    "import numpy as np\n",
    "import matplotlib.pyplot as plt\n",
    "\n",
    "def thinning(image_path):\n",
    "    # Read the image and convert to grayscale\n",
    "    img = cv2.imread(image_path, 0)\n",
    "\n",
    "    # Binarize the image: You may need to adjust the threshold value\n",
    "    _, bin_img = cv2.threshold(img, 100, 255, cv2.THRESH_BINARY_INV)\n",
    "    plt.imshow(\"Binary\", bin_img)\n",
    "    # Define the structure element for morphological operations\n",
    "    struct_elem = cv2.getStructuringElement(cv2.MORPH_CROSS, (3,3))\n",
    "\n",
    "    # Iteratively apply thinning\n",
    "    thinning_img = np.copy(bin_img)  # Make a copy to not modify the original\n",
    "    prev_img = np.zeros(bin_img.shape, np.uint8)\n",
    "    while cv2.countNonZero(thinning_img - prev_img) != 0:\n",
    "        prev_img = thinning_img.copy()\n",
    "        eroded = cv2.erode(thinning_img, struct_elem)\n",
    "        temp_img = cv2.dilate(eroded, struct_elem)\n",
    "        thinning_img = cv2.subtract(thinning_img, temp_img)\n",
    "\n",
    "    # Invert the image back to original form\n",
    "    thinning_img = cv2.bitwise_not(thinning_img)\n",
    "\n",
    "    # Display\n",
    "    plt.imshow(\"Original\", img)\n",
    "    plt.imshow(\"Thinning\", thinning_img)\n",
    "    plt.show()"
   ]
  },
  {
   "cell_type": "code",
   "execution_count": 1,
   "metadata": {},
   "outputs": [
    {
     "ename": "NameError",
     "evalue": "name 'thinning' is not defined",
     "output_type": "error",
     "traceback": [
      "\u001b[0;31m---------------------------------------------------------------------------\u001b[0m",
      "\u001b[0;31mNameError\u001b[0m                                 Traceback (most recent call last)",
      "\u001b[1;32mUntitled-1.ipynb Cell 2\u001b[0m line \u001b[0;36m3\n\u001b[1;32m      <a href='vscode-notebook-cell:Untitled-1.ipynb?jupyter-notebook#W1sdW50aXRsZWQ%3D?line=1'>2</a>\u001b[0m \u001b[39m# Call the function\u001b[39;00m\n\u001b[0;32m----> <a href='vscode-notebook-cell:Untitled-1.ipynb?jupyter-notebook#W1sdW50aXRsZWQ%3D?line=2'>3</a>\u001b[0m thinning(\u001b[39m'\u001b[39m\u001b[39mimages/squares_board_image.jpg\u001b[39m\u001b[39m'\u001b[39m)\n",
      "\u001b[0;31mNameError\u001b[0m: name 'thinning' is not defined"
     ]
    }
   ],
   "source": [
    "\n",
    "# Call the function\n",
    "thinning('images/squares_board_image.jpg')\n"
   ]
  }
 ],
 "metadata": {
  "kernelspec": {
   "display_name": "dsr-setup",
   "language": "python",
   "name": "dsr-setup"
  },
  "language_info": {
   "codemirror_mode": {
    "name": "ipython",
    "version": 3
   },
   "file_extension": ".py",
   "mimetype": "text/x-python",
   "name": "python",
   "nbconvert_exporter": "python",
   "pygments_lexer": "ipython3",
   "version": "3.10.13"
  },
  "orig_nbformat": 4
 },
 "nbformat": 4,
 "nbformat_minor": 2
}
